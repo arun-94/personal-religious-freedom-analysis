{
 "cells": [
  {
   "cell_type": "code",
   "execution_count": 4,
   "metadata": {
    "collapsed": true
   },
   "outputs": [],
   "source": [
    "import pandas as pd"
   ]
  },
  {
   "cell_type": "code",
   "execution_count": null,
   "metadata": {
    "collapsed": true
   },
   "outputs": [],
   "source": [
    "GLOBAL_RELIGION_DATA = '../data/world-religions/global_raw.csv'\n",
    "NATIONAL_RELIGION_DATA = '../data/world-religions/national_raw.csv'\n",
    "LOCAL_RELIGION_DATA = '../data/world-religions/regional_raw.csv'"
   ]
  },
  {
   "cell_type": "code",
   "execution_count": 5,
   "metadata": {
    "collapsed": true
   },
   "outputs": [],
   "source": [
    "TERRORIST_ATTACKS_DATA = '../data/terrorist-attacks/cleaned.csv'"
   ]
  },
  {
   "cell_type": "code",
   "execution_count": 9,
   "metadata": {
    "collapsed": true
   },
   "outputs": [],
   "source": [
    "terrorist_attack_tbl = pd.read_csv(TERRORIST_ATTACKS_DATA)\n",
    "terrorist_attack_tbl = terrorist_attack_tbl.drop(columns='Unnamed: 0')"
   ]
  },
  {
   "cell_type": "code",
   "execution_count": 16,
   "metadata": {
    "scrolled": true
   },
   "outputs": [
    {
     "name": "stderr",
     "output_type": "stream",
     "text": [
      "/Library/Frameworks/Python.framework/Versions/3.5/lib/python3.5/site-packages/ipykernel/__main__.py:1: FutureWarning: Interpreting tuple 'by' as a list of keys, rather than a single key. Use 'by=[...]' instead of 'by=(...)'. In the future, a tuple will always mean a single key.\n",
      "  if __name__ == '__main__':\n"
     ]
    }
   ],
   "source": [
    "tbls = list(terrorist_attack_tbl.groupby(('country', 'year')))"
   ]
  },
  {
   "cell_type": "code",
   "execution_count": 24,
   "metadata": {},
   "outputs": [
    {
     "data": {
      "text/html": [
       "<div>\n",
       "<style scoped>\n",
       "    .dataframe tbody tr th:only-of-type {\n",
       "        vertical-align: middle;\n",
       "    }\n",
       "\n",
       "    .dataframe tbody tr th {\n",
       "        vertical-align: top;\n",
       "    }\n",
       "\n",
       "    .dataframe thead th {\n",
       "        text-align: right;\n",
       "    }\n",
       "</style>\n",
       "<table border=\"1\" class=\"dataframe\">\n",
       "  <thead>\n",
       "    <tr style=\"text-align: right;\">\n",
       "      <th></th>\n",
       "      <th>date</th>\n",
       "      <th>country</th>\n",
       "      <th>city</th>\n",
       "      <th>killed</th>\n",
       "      <th>injured</th>\n",
       "      <th>description</th>\n",
       "      <th>year</th>\n",
       "    </tr>\n",
       "  </thead>\n",
       "  <tbody>\n",
       "    <tr>\n",
       "      <th>150</th>\n",
       "      <td>2002-04-08</td>\n",
       "      <td>Afghanistan</td>\n",
       "      <td>Jalalabad</td>\n",
       "      <td>9</td>\n",
       "      <td>92</td>\n",
       "      <td>A terrorist bomb explodes near a government co...</td>\n",
       "      <td>2002</td>\n",
       "    </tr>\n",
       "    <tr>\n",
       "      <th>241</th>\n",
       "      <td>2002-06-06</td>\n",
       "      <td>Afghanistan</td>\n",
       "      <td>Kabul</td>\n",
       "      <td>2</td>\n",
       "      <td>0</td>\n",
       "      <td>The country's Deputy President and his driver ...</td>\n",
       "      <td>2002</td>\n",
       "    </tr>\n",
       "    <tr>\n",
       "      <th>249</th>\n",
       "      <td>2002-06-10</td>\n",
       "      <td>Afghanistan</td>\n",
       "      <td>Kabul</td>\n",
       "      <td>1</td>\n",
       "      <td>0</td>\n",
       "      <td>A government official is stabbed to death by a...</td>\n",
       "      <td>2002</td>\n",
       "    </tr>\n",
       "    <tr>\n",
       "      <th>374</th>\n",
       "      <td>2002-09-01</td>\n",
       "      <td>Afghanistan</td>\n",
       "      <td>Kabul</td>\n",
       "      <td>1</td>\n",
       "      <td>3</td>\n",
       "      <td>Taliban bombing kills one, injures three others.</td>\n",
       "      <td>2002</td>\n",
       "    </tr>\n",
       "    <tr>\n",
       "      <th>378</th>\n",
       "      <td>2002-09-05</td>\n",
       "      <td>Afghanistan</td>\n",
       "      <td>Kabul</td>\n",
       "      <td>22</td>\n",
       "      <td>65</td>\n",
       "      <td>Bomb explodes in busy Kabul marketplace. At le...</td>\n",
       "      <td>2002</td>\n",
       "    </tr>\n",
       "    <tr>\n",
       "      <th>380</th>\n",
       "      <td>2002-09-06</td>\n",
       "      <td>Afghanistan</td>\n",
       "      <td>Akora Khattak</td>\n",
       "      <td>1</td>\n",
       "      <td>2</td>\n",
       "      <td>Muslim militants disguise a bomb as a toy.  On...</td>\n",
       "      <td>2002</td>\n",
       "    </tr>\n",
       "  </tbody>\n",
       "</table>\n",
       "</div>"
      ],
      "text/plain": [
       "           date      country           city  killed  injured  \\\n",
       "150  2002-04-08  Afghanistan      Jalalabad       9       92   \n",
       "241  2002-06-06  Afghanistan          Kabul       2        0   \n",
       "249  2002-06-10  Afghanistan          Kabul       1        0   \n",
       "374  2002-09-01  Afghanistan          Kabul       1        3   \n",
       "378  2002-09-05  Afghanistan          Kabul      22       65   \n",
       "380  2002-09-06  Afghanistan  Akora Khattak       1        2   \n",
       "\n",
       "                                           description  year  \n",
       "150  A terrorist bomb explodes near a government co...  2002  \n",
       "241  The country's Deputy President and his driver ...  2002  \n",
       "249  A government official is stabbed to death by a...  2002  \n",
       "374   Taliban bombing kills one, injures three others.  2002  \n",
       "378  Bomb explodes in busy Kabul marketplace. At le...  2002  \n",
       "380  Muslim militants disguise a bomb as a toy.  On...  2002  "
      ]
     },
     "execution_count": 24,
     "metadata": {},
     "output_type": "execute_result"
    }
   ],
   "source": [
    "tbls[0][1]"
   ]
  },
  {
   "cell_type": "code",
   "execution_count": null,
   "metadata": {},
   "outputs": [],
   "source": [
    "terrorist_attack_tbl.set_index(['year', 'country'])"
   ]
  },
  {
   "cell_type": "code",
   "execution_count": null,
   "metadata": {
    "collapsed": true
   },
   "outputs": [],
   "source": [
    "religion_data['year'] = religion_data.year.astype('int')"
   ]
  },
  {
   "cell_type": "code",
   "execution_count": null,
   "metadata": {
    "collapsed": true
   },
   "outputs": [],
   "source": [
    "terrorist_attack_tbl['year'] = terrorist_attack_tbl['year'].astype('int')"
   ]
  },
  {
   "cell_type": "code",
   "execution_count": null,
   "metadata": {
    "collapsed": true
   },
   "outputs": [],
   "source": [
    "terrorist_attack_tbl.head()"
   ]
  },
  {
   "cell_type": "code",
   "execution_count": null,
   "metadata": {
    "collapsed": true
   },
   "outputs": [],
   "source": [
    "religion_data"
   ]
  },
  {
   "cell_type": "code",
   "execution_count": null,
   "metadata": {
    "collapsed": true
   },
   "outputs": [],
   "source": [
    "religion_data"
   ]
  },
  {
   "cell_type": "code",
   "execution_count": null,
   "metadata": {
    "collapsed": true
   },
   "outputs": [],
   "source": []
  },
  {
   "cell_type": "code",
   "execution_count": null,
   "metadata": {
    "collapsed": true
   },
   "outputs": [],
   "source": [
    "terrorist_attack_tbl = terrorist_attack_tbl.drop(columns='Unnamed: 0')"
   ]
  },
  {
   "cell_type": "code",
   "execution_count": null,
   "metadata": {
    "collapsed": true
   },
   "outputs": [],
   "source": [
    "terrorist_attack_tbl.columns = ['date', 'country', 'city', 'killed', 'injured', 'description']"
   ]
  },
  {
   "cell_type": "code",
   "execution_count": null,
   "metadata": {
    "collapsed": true
   },
   "outputs": [],
   "source": [
    "terrorist_attack_tbl['year'] = terrorist_attack_tbl.date.map(lambda d: d.split('-')[0])"
   ]
  },
  {
   "cell_type": "code",
   "execution_count": null,
   "metadata": {
    "collapsed": true
   },
   "outputs": [],
   "source": [
    "terrorist_attack_tbl.to_csv('../data/terrorist-attacks/cleaned.csv')"
   ]
  }
 ],
 "metadata": {
  "kernelspec": {
   "display_name": "Python 3",
   "language": "python",
   "name": "python3"
  },
  "language_info": {
   "codemirror_mode": {
    "name": "ipython",
    "version": 3
   },
   "file_extension": ".py",
   "mimetype": "text/x-python",
   "name": "python",
   "nbconvert_exporter": "python",
   "pygments_lexer": "ipython3",
   "version": "3.5.2"
  }
 },
 "nbformat": 4,
 "nbformat_minor": 1
}
