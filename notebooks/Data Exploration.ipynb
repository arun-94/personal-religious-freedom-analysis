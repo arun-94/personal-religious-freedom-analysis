{
 "cells": [
  {
   "cell_type": "code",
   "execution_count": 1,
   "metadata": {
    "collapsed": true
   },
   "outputs": [],
   "source": [
    "import matplotlib.pyplot as plt\n",
    "%matplotlib inline  "
   ]
  },
  {
   "cell_type": "code",
   "execution_count": 2,
   "metadata": {
    "collapsed": true
   },
   "outputs": [],
   "source": [
    "import pandas as pd\n",
    "import numpy as np"
   ]
  },
  {
   "cell_type": "code",
   "execution_count": 3,
   "metadata": {
    "collapsed": true
   },
   "outputs": [],
   "source": [
    "GLOBAL_RELIGION_DATA = '../data/world-religions/global_raw.csv'\n",
    "NATIONAL_RELIGION_DATA = '../data/world-religions/national_raw.csv'\n",
    "LOCAL_RELIGION_DATA = '../data/world-religions/regional_raw.csv'"
   ]
  },
  {
   "cell_type": "code",
   "execution_count": 4,
   "metadata": {
    "collapsed": true
   },
   "outputs": [],
   "source": [
    "pop_data_tbl = pd.read_csv(NATIONAL_RELIGION_DATA)"
   ]
  },
  {
   "cell_type": "code",
   "execution_count": 6,
   "metadata": {
    "collapsed": true
   },
   "outputs": [],
   "source": [
    "perc_cols =  ['christianity_percent', 'judaism_percent', 'islam_percent', 'buddhism_percent',\n",
    "              'zoroastrianism_percent', 'hinduism_percent', 'sikhism_percent','shinto_percent',\n",
    "              'baha’i_percent', 'taoism_percent', 'jainism_percent', 'confucianism_percent',\n",
    "              'syncretism_percent','animism_percent', 'noreligion_percent', 'otherreligion_percent']"
   ]
  },
  {
   "cell_type": "code",
   "execution_count": 5,
   "metadata": {
    "collapsed": true
   },
   "outputs": [],
   "source": [
    "all_cols = ['christianity_all', 'judaism_all', 'islam_all', 'buddhism_all',\n",
    "              'zoroastrianism_all', 'hinduism_all', 'sikhism_all','shinto_all',\n",
    "              'baha’i_all', 'taoism_all', 'jainism_all', 'confucianism_all',\n",
    "              'syncretism_all','animism_all', 'noreligion_all', 'otherreligion_all']"
   ]
  },
  {
   "cell_type": "code",
   "execution_count": null,
   "metadata": {},
   "outputs": [],
   "source": [
    "pop_data_tbl[all_cols].sum(axis=0).plot(kind='bar')"
   ]
  },
  {
   "cell_type": "code",
   "execution_count": 7,
   "metadata": {
    "collapsed": true
   },
   "outputs": [],
   "source": [
    "pop_data_tbl['majority_religion'] = pop_data_tbl[perc_cols].idxmax(axis=1)"
   ]
  },
  {
   "cell_type": "code",
   "execution_count": null,
   "metadata": {},
   "outputs": [],
   "source": [
    "pop_data_tbl.majority_religion.unique()"
   ]
  },
  {
   "cell_type": "code",
   "execution_count": 8,
   "metadata": {
    "collapsed": true
   },
   "outputs": [],
   "source": [
    "pop_data_tbl['majority_religion'] = pop_data_tbl.majority_religion.map(lambda row: row[:-8])"
   ]
  },
  {
   "cell_type": "code",
   "execution_count": 12,
   "metadata": {},
   "outputs": [
    {
     "name": "stderr",
     "output_type": "stream",
     "text": [
      "/Library/Frameworks/Python.framework/Versions/3.5/lib/python3.5/site-packages/ipykernel/__main__.py:3: SettingWithCopyWarning: \n",
      "A value is trying to be set on a copy of a slice from a DataFrame.\n",
      "Try using .loc[row_indexer,col_indexer] = value instead\n",
      "\n",
      "See the caveats in the documentation: http://pandas.pydata.org/pandas-docs/stable/indexing.html#indexing-view-versus-copy\n",
      "  app.launch_new_instance()\n",
      "/Library/Frameworks/Python.framework/Versions/3.5/lib/python3.5/site-packages/ipykernel/__main__.py:4: SettingWithCopyWarning: \n",
      "A value is trying to be set on a copy of a slice from a DataFrame.\n",
      "Try using .loc[row_indexer,col_indexer] = value instead\n",
      "\n",
      "See the caveats in the documentation: http://pandas.pydata.org/pandas-docs/stable/indexing.html#indexing-view-versus-copy\n"
     ]
    }
   ],
   "source": [
    "tbls = []\n",
    "for key, tbl in pop_data_tbl.groupby('majority_religion'):\n",
    "    tbl['majority_population'] = tbl[[key + '_all']]\n",
    "    tbl['majority_ratio'] = tbl[[key + '_percent']]\n",
    "    tbls.append(tbl[['year', 'state', 'code', 'majority_religion', 'majority_population', 'majority_ratio']])"
   ]
  },
  {
   "cell_type": "code",
   "execution_count": 13,
   "metadata": {
    "collapsed": true
   },
   "outputs": [],
   "source": [
    "joined_tbl = pd.concat(tbls).reset_index()"
   ]
  },
  {
   "cell_type": "code",
   "execution_count": 15,
   "metadata": {
    "collapsed": true
   },
   "outputs": [],
   "source": [
    "joined_tbl.to_csv('../data/world-religions/national_majority_data.csv', index=False)"
   ]
  },
  {
   "cell_type": "code",
   "execution_count": null,
   "metadata": {
    "collapsed": true
   },
   "outputs": [],
   "source": [
    "K_VALUES = range(1, 11)"
   ]
  },
  {
   "cell_type": "code",
   "execution_count": null,
   "metadata": {
    "collapsed": true
   },
   "outputs": [],
   "source": [
    "def kmeans_elbow(features_df):\n",
    "    sum_of_squared_distances = []\n",
    "\n",
    "    for k in K_VALUES:\n",
    "        kmeans_model = KMeans(n_clusters=k).fit(features_df)\n",
    "        sum_of_squared_distances.append(kmeans_model.inertia_)\n",
    "\n",
    "    fig = plt.figure()\n",
    "    sub_plt = fig.add_subplot(111)\n",
    "\n",
    "    # Plot scree plot\n",
    "    sub_plt.plot(K_VALUES, sum_of_squared_distances, 'rx-')\n",
    "\n",
    "    # Mark optimal k\n",
    "    # My estimate is k=4\n",
    "    sub_plt.plot(K_VALUES[3], sum_of_squared_distances[3],\n",
    "                 marker='o',\n",
    "                 markersize=12,\n",
    "                 markeredgewidth=2,\n",
    "                 markeredgecolor='b',\n",
    "                 markerfacecolor='None')\n",
    "\n",
    "    plt.xlabel('k')\n",
    "    plt.ylabel('Sum of squared distances')\n",
    "    plt.title('Scree Plot for elbow method to find optimal k')\n",
    "    plt.grid(True)\n",
    "    plt.show()"
   ]
  },
  {
   "cell_type": "code",
   "execution_count": null,
   "metadata": {
    "collapsed": true
   },
   "outputs": [],
   "source": [
    "tbl = pop_data_tbl[['christianity_protestant',\n",
    "       'christianity_romancatholic', 'christianity_easternorthodox',\n",
    "       'christianity_anglican', 'christianity_other',\n",
    "       'judaism_orthodox', 'judaism_conservative', 'judaism_reform',\n",
    "       'judaism_other', 'islam_sunni', 'islam_shi’a',\n",
    "       'islam_ibadhi', 'islam_alawite',\n",
    "       'islam_ahmadiyya', 'islam_other', 'buddhism_mahayana',\n",
    "       'buddhism_theravada', 'buddhism_other',]].dropna()"
   ]
  },
  {
   "cell_type": "code",
   "execution_count": null,
   "metadata": {
    "collapsed": true
   },
   "outputs": [],
   "source": [
    "tbl = (tbl - tbl.mean()) / tbl.std()"
   ]
  },
  {
   "cell_type": "code",
   "execution_count": null,
   "metadata": {
    "collapsed": true
   },
   "outputs": [],
   "source": [
    "def perform_clustering(optimal_k, features_df):\n",
    "    kmeans_model = DBSCAN().fit(features_df)\n",
    "    cluster_labels = kmeans_model.labels_\n",
    "\n",
    "    features_df['cluster_label'] = cluster_labels.astype(np.int64)\n",
    "\n",
    "    return features_df"
   ]
  },
  {
   "cell_type": "code",
   "execution_count": null,
   "metadata": {
    "collapsed": true
   },
   "outputs": [],
   "source": [
    "terrorist_attack_tbl = pd.read_csv(TERRORIST_ATTACKS_DATA)\n",
    "terrorist_attack_tbl = terrorist_attack_tbl.drop(columns='Unnamed: 0')"
   ]
  },
  {
   "cell_type": "code",
   "execution_count": null,
   "metadata": {
    "collapsed": true
   },
   "outputs": [],
   "source": [
    "terrorist_attack_tbl_2010 = terrorist_attack_tbl[terrorist_attack_tbl.year == 2010]"
   ]
  },
  {
   "cell_type": "code",
   "execution_count": null,
   "metadata": {
    "collapsed": true,
    "scrolled": true
   },
   "outputs": [],
   "source": [
    "killed_tbl = terrorist_attack_tbl_2010.groupby(['country'])[['injured', 'killed']].sum()"
   ]
  },
  {
   "cell_type": "code",
   "execution_count": null,
   "metadata": {
    "collapsed": true
   },
   "outputs": [],
   "source": [
    "joined_tbl = killed_tbl.join(sub_pop_data_tbl, on='country')"
   ]
  },
  {
   "cell_type": "code",
   "execution_count": null,
   "metadata": {
    "collapsed": true
   },
   "outputs": [],
   "source": [
    "joined_tbl = joined_tbl.sort_values('killed', ascending=False)"
   ]
  },
  {
   "cell_type": "code",
   "execution_count": null,
   "metadata": {
    "collapsed": true
   },
   "outputs": [],
   "source": [
    "joined_tbl[joined_tbl.index == 'Iraq']"
   ]
  },
  {
   "cell_type": "code",
   "execution_count": null,
   "metadata": {
    "collapsed": true
   },
   "outputs": [],
   "source": [
    "joined_tbl.plot??"
   ]
  },
  {
   "cell_type": "code",
   "execution_count": null,
   "metadata": {
    "collapsed": true,
    "scrolled": true
   },
   "outputs": [],
   "source": [
    "for key in joined_tbl.index:\n",
    "    filtered_join_tbl = joined_tbl[joined_tbl.index == key]\n",
    "    new_filtered_join_tbl = filtered_join_tbl[['christianity_all', 'judaism_all', 'islam_all', 'buddhism_all', 'hinduism_all']]\n",
    "    new_filtered_join_tbl.plot(kind='bar', logy=True)\n",
    "    filtered_join_tbl[['killed', 'injured']].plot(kind='bar')"
   ]
  },
  {
   "cell_type": "code",
   "execution_count": null,
   "metadata": {
    "collapsed": true
   },
   "outputs": [],
   "source": [
    "terrorist_attack_tbl.set_index(['year', 'country'])"
   ]
  },
  {
   "cell_type": "code",
   "execution_count": null,
   "metadata": {
    "collapsed": true
   },
   "outputs": [],
   "source": [
    "religion_data['year'] = religion_data.year.astype('int')"
   ]
  },
  {
   "cell_type": "code",
   "execution_count": null,
   "metadata": {
    "collapsed": true
   },
   "outputs": [],
   "source": [
    "terrorist_attack_tbl['year'] = terrorist_attack_tbl['year'].astype('int')"
   ]
  },
  {
   "cell_type": "code",
   "execution_count": null,
   "metadata": {
    "collapsed": true
   },
   "outputs": [],
   "source": [
    "terrorist_attack_tbl.head()"
   ]
  },
  {
   "cell_type": "code",
   "execution_count": null,
   "metadata": {
    "collapsed": true
   },
   "outputs": [],
   "source": [
    "religion_data"
   ]
  },
  {
   "cell_type": "code",
   "execution_count": null,
   "metadata": {
    "collapsed": true
   },
   "outputs": [],
   "source": [
    "religion_data"
   ]
  },
  {
   "cell_type": "code",
   "execution_count": null,
   "metadata": {
    "collapsed": true
   },
   "outputs": [],
   "source": []
  },
  {
   "cell_type": "code",
   "execution_count": null,
   "metadata": {
    "collapsed": true
   },
   "outputs": [],
   "source": [
    "terrorist_attack_tbl = terrorist_attack_tbl.drop(columns='Unnamed: 0')"
   ]
  },
  {
   "cell_type": "code",
   "execution_count": null,
   "metadata": {
    "collapsed": true
   },
   "outputs": [],
   "source": [
    "terrorist_attack_tbl.columns = ['date', 'country', 'city', 'killed', 'injured', 'description']"
   ]
  },
  {
   "cell_type": "code",
   "execution_count": null,
   "metadata": {
    "collapsed": true
   },
   "outputs": [],
   "source": [
    "terrorist_attack_tbl['year'] = terrorist_attack_tbl.date.map(lambda d: d.split('-')[0])"
   ]
  },
  {
   "cell_type": "code",
   "execution_count": null,
   "metadata": {
    "collapsed": true
   },
   "outputs": [],
   "source": [
    "terrorist_attack_tbl.to_csv('../data/terrorist-attacks/cleaned.csv')"
   ]
  }
 ],
 "metadata": {
  "kernelspec": {
   "display_name": "Python 3",
   "language": "python",
   "name": "python3"
  },
  "language_info": {
   "codemirror_mode": {
    "name": "ipython",
    "version": 3
   },
   "file_extension": ".py",
   "mimetype": "text/x-python",
   "name": "python",
   "nbconvert_exporter": "python",
   "pygments_lexer": "ipython3",
   "version": "3.5.2"
  }
 },
 "nbformat": 4,
 "nbformat_minor": 1
}
