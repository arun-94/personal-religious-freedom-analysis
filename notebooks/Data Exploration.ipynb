{
 "cells": [
  {
   "cell_type": "code",
   "execution_count": null,
   "metadata": {
    "collapsed": true
   },
   "outputs": [],
   "source": [
    "import matplotlib.pyplot as plt\n",
    "%matplotlib inline  "
   ]
  },
  {
   "cell_type": "code",
   "execution_count": 1,
   "metadata": {
    "collapsed": true
   },
   "outputs": [],
   "source": [
    "import pandas as pd\n",
    "import numpy as np"
   ]
  },
  {
   "cell_type": "code",
   "execution_count": 2,
   "metadata": {
    "collapsed": true
   },
   "outputs": [],
   "source": [
    "GLOBAL_RELIGION_DATA = '../data/world-religions/global_raw.csv'\n",
    "NATIONAL_RELIGION_DATA = '../data/world-religions/national_raw.csv'\n",
    "LOCAL_RELIGION_DATA = '../data/world-religions/regional_raw.csv'"
   ]
  },
  {
   "cell_type": "code",
   "execution_count": 3,
   "metadata": {
    "collapsed": true
   },
   "outputs": [],
   "source": [
    "pop_data_tbl = pd.read_csv(NATIONAL_RELIGION_DATA)"
   ]
  },
  {
   "cell_type": "code",
   "execution_count": 4,
   "metadata": {
    "collapsed": true
   },
   "outputs": [],
   "source": [
    "perc_cols =  ['christianity_percent', 'judaism_percent', 'islam_percent', 'buddhism_percent',\n",
    "              'zoroastrianism_percent', 'hinduism_percent', 'sikhism_percent','shinto_percent',\n",
    "              'baha’i_percent', 'taoism_percent', 'jainism_percent', 'confucianism_percent',\n",
    "              'syncretism_percent','animism_percent', 'noreligion_percent', 'otherreligion_percent']"
   ]
  },
  {
   "cell_type": "code",
   "execution_count": null,
   "metadata": {
    "collapsed": true
   },
   "outputs": [],
   "source": [
    "all_cols = ['christianity_all', 'judaism_all', 'islam_all', 'buddhism_all',\n",
    "              'zoroastrianism_all', 'hinduism_all', 'sikhism_all','shinto_all',\n",
    "              'baha’i_all', 'taoism_all', 'jainism_all', 'confucianism_all',\n",
    "              'syncretism_all','animism_all', 'noreligion_all', 'otherreligion_all']"
   ]
  },
  {
   "cell_type": "code",
   "execution_count": null,
   "metadata": {
    "collapsed": true
   },
   "outputs": [],
   "source": [
    "pop_data_tbl[all_cols].sum(axis=0).plot(kind='bar')"
   ]
  },
  {
   "cell_type": "code",
   "execution_count": 5,
   "metadata": {
    "collapsed": true
   },
   "outputs": [],
   "source": [
    "pop_data_tbl['majority_religion'] = pop_data_tbl[perc_cols].idxmax(axis=1)"
   ]
  },
  {
   "cell_type": "code",
   "execution_count": 6,
   "metadata": {
    "collapsed": true
   },
   "outputs": [],
   "source": [
    "pop_data_tbl['majority_religion'] = pop_data_tbl.majority_religion.map(lambda row: row[:-8])"
   ]
  },
  {
   "cell_type": "code",
   "execution_count": 7,
   "metadata": {},
   "outputs": [
    {
     "name": "stderr",
     "output_type": "stream",
     "text": [
      "/Library/Frameworks/Python.framework/Versions/3.5/lib/python3.5/site-packages/ipykernel/__main__.py:3: SettingWithCopyWarning: \n",
      "A value is trying to be set on a copy of a slice from a DataFrame.\n",
      "Try using .loc[row_indexer,col_indexer] = value instead\n",
      "\n",
      "See the caveats in the documentation: http://pandas.pydata.org/pandas-docs/stable/indexing.html#indexing-view-versus-copy\n",
      "  app.launch_new_instance()\n",
      "/Library/Frameworks/Python.framework/Versions/3.5/lib/python3.5/site-packages/ipykernel/__main__.py:4: SettingWithCopyWarning: \n",
      "A value is trying to be set on a copy of a slice from a DataFrame.\n",
      "Try using .loc[row_indexer,col_indexer] = value instead\n",
      "\n",
      "See the caveats in the documentation: http://pandas.pydata.org/pandas-docs/stable/indexing.html#indexing-view-versus-copy\n"
     ]
    }
   ],
   "source": [
    "tbls = []\n",
    "for key, tbl in pop_data_tbl.groupby('majority_religion'):\n",
    "    tbl['majority_population'] = tbl[[key + '_all']]\n",
    "    tbl['majority_ratio'] = tbl[[key + '_percent']]\n",
    "    tbls.append(tbl[['year', 'state', 'code', 'majority_religion', 'majority_population', 'majority_ratio', 'population']])"
   ]
  },
  {
   "cell_type": "code",
   "execution_count": 77,
   "metadata": {
    "collapsed": true
   },
   "outputs": [],
   "source": [
    "joined_tbl = pd.concat(tbls).reset_index()"
   ]
  },
  {
   "cell_type": "code",
   "execution_count": 68,
   "metadata": {
    "collapsed": true
   },
   "outputs": [],
   "source": [
    "GROWTH_DATA = '../data/growth_data/growth_data_cleaned.csv'"
   ]
  },
  {
   "cell_type": "code",
   "execution_count": 69,
   "metadata": {},
   "outputs": [],
   "source": [
    "growth_df = pd.read_csv(GROWTH_DATA)"
   ]
  },
  {
   "cell_type": "code",
   "execution_count": 70,
   "metadata": {},
   "outputs": [],
   "source": [
    "growth_df = growth_df.drop('Unnamed: 0', axis=1)"
   ]
  },
  {
   "cell_type": "code",
   "execution_count": 75,
   "metadata": {},
   "outputs": [],
   "source": [
    "joined_tbl = joined_tbl.set_index(['state', 'year'])"
   ]
  },
  {
   "cell_type": "code",
   "execution_count": 38,
   "metadata": {},
   "outputs": [],
   "source": [
    "growth_df[growth_df.year.isin(joined_tbl.year.values)].reset_index(inplace=True)"
   ]
  },
  {
   "cell_type": "code",
   "execution_count": 78,
   "metadata": {},
   "outputs": [],
   "source": [
    "growth_df = growth_df[growth_df.year.isin(joined_tbl.year.values)]"
   ]
  },
  {
   "cell_type": "code",
   "execution_count": 79,
   "metadata": {
    "collapsed": true
   },
   "outputs": [],
   "source": [
    "growth_df.reset_index(inplace=True)"
   ]
  },
  {
   "cell_type": "code",
   "execution_count": 84,
   "metadata": {},
   "outputs": [],
   "source": [
    "growth_df = growth_df.set_index(['country_name', 'year'])"
   ]
  },
  {
   "cell_type": "code",
   "execution_count": 60,
   "metadata": {},
   "outputs": [
    {
     "data": {
      "text/plain": [
       "Index(['index', 'country_code', 'growth'], dtype='object')"
      ]
     },
     "execution_count": 60,
     "metadata": {},
     "output_type": "execute_result"
    }
   ],
   "source": [
    "growth_df.columns"
   ]
  },
  {
   "cell_type": "code",
   "execution_count": 80,
   "metadata": {},
   "outputs": [],
   "source": [
    "growth_df = growth_df.drop('index', axis=1)"
   ]
  },
  {
   "cell_type": "code",
   "execution_count": 85,
   "metadata": {
    "scrolled": false
   },
   "outputs": [],
   "source": [
    "new_joined_tbl = joined_tbl.join(growth_df, on=('state', 'year'))"
   ]
  },
  {
   "cell_type": "code",
   "execution_count": 88,
   "metadata": {},
   "outputs": [],
   "source": [
    "new_joined_tbl[new_joined_tbl.growth.notnull()].drop('index', axis=1).to_csv('../data/growth_data/religion_growth_data.csv')"
   ]
  },
  {
   "cell_type": "code",
   "execution_count": null,
   "metadata": {},
   "outputs": [],
   "source": [
    "other_cols = growth_df.columns.tolist()[:4]"
   ]
  },
  {
   "cell_type": "code",
   "execution_count": null,
   "metadata": {},
   "outputs": [],
   "source": [
    "growth_rate_year_df = pd.melt(growth_df, id_vars=other_cols, \n",
    "        value_vars=growth_df.columns.tolist()[4:-1], var_name='year', value_name='growth')"
   ]
  },
  {
   "cell_type": "code",
   "execution_count": null,
   "metadata": {},
   "outputs": [],
   "source": [
    "growth_rate_year_df = growth_rate_year_df[growth_rate_year_df.growth.notnull()].reset_index()"
   ]
  },
  {
   "cell_type": "code",
   "execution_count": null,
   "metadata": {},
   "outputs": [],
   "source": [
    "growth_rate_year_df = growth_rate_year_df.drop('index', axis=1)"
   ]
  },
  {
   "cell_type": "code",
   "execution_count": null,
   "metadata": {},
   "outputs": [],
   "source": [
    "growth_rate_year_df.columns = ['country_name', 'country_code', 'ind_name', 'ind_code', 'year', 'growth']"
   ]
  },
  {
   "cell_type": "code",
   "execution_count": null,
   "metadata": {},
   "outputs": [],
   "source": [
    "growth_rate_year_df = growth_rate_year_df.drop(['ind_name', 'ind_code'], axis=1)"
   ]
  },
  {
   "cell_type": "code",
   "execution_count": null,
   "metadata": {},
   "outputs": [],
   "source": [
    "growth_rate_year_df.to_csv('../data/growth_data/growth_data_cleaned.csv')"
   ]
  },
  {
   "cell_type": "code",
   "execution_count": null,
   "metadata": {
    "collapsed": true,
    "scrolled": true
   },
   "outputs": [],
   "source": [
    "joined_tbl_2010 = joined_tbl[joined_tbl['year'] == 2010].reset_index()"
   ]
  },
  {
   "cell_type": "code",
   "execution_count": null,
   "metadata": {
    "collapsed": true
   },
   "outputs": [],
   "source": [
    "HUMAN_FREEDOM_FILE = '../data/human-freedom-index/raw.csv'"
   ]
  },
  {
   "cell_type": "code",
   "execution_count": null,
   "metadata": {},
   "outputs": [],
   "source": [
    "human_freedom_tbl = pd.read_csv(HUMAN_FREEDOM_FILE)"
   ]
  },
  {
   "cell_type": "code",
   "execution_count": null,
   "metadata": {
    "collapsed": true
   },
   "outputs": [],
   "source": [
    "human_tbl_2010 = human_freedom_tbl[human_freedom_tbl.year == 2010].reset_index()"
   ]
  },
  {
   "cell_type": "code",
   "execution_count": null,
   "metadata": {
    "collapsed": true
   },
   "outputs": [],
   "source": [
    "human_tbl_2010 = human_tbl_2010.set_index('countries').drop(['year', 'index'], axis=1)"
   ]
  },
  {
   "cell_type": "code",
   "execution_count": null,
   "metadata": {
    "collapsed": true
   },
   "outputs": [],
   "source": [
    "joined_freedom_tbl = joined_tbl_2010.set_index(['state']).join(human_tbl_2010)"
   ]
  },
  {
   "cell_type": "code",
   "execution_count": null,
   "metadata": {
    "collapsed": true
   },
   "outputs": [],
   "source": [
    "df = pd.read_csv('../data/human-freedom-index/religion_freedom.csv')"
   ]
  },
  {
   "cell_type": "code",
   "execution_count": null,
   "metadata": {},
   "outputs": [],
   "source": [
    "vals = []\n",
    "for key, tbl in df.groupby(['majority_religion']):\n",
    "    row = [key]\n",
    "    for feature in ('pf_religion', 'pf_religion_estop', 'pf_religion_harassment', 'pf_religion_restrictions'):\n",
    "        sub_tbl = tbl[tbl[feature].notnull()]\n",
    "        n = len(sub_tbl)\n",
    "        total_population = sub_tbl.population.sum()\n",
    "        if feature == 'pf_religion_estop' and key == 'animism':\n",
    "            row.append(6.017605)\n",
    "        else:\n",
    "            row.append((sub_tbl[feature] * sub_tbl.population).sum()  / (total_population))\n",
    "    vals.append(row)"
   ]
  },
  {
   "cell_type": "code",
   "execution_count": null,
   "metadata": {},
   "outputs": [],
   "source": [
    "df[df['majority_religion'] == 'animism'].pf_religion"
   ]
  },
  {
   "cell_type": "code",
   "execution_count": null,
   "metadata": {},
   "outputs": [],
   "source": [
    "row = ['total_average']\n",
    "for feat in ('pf_religion', 'pf_religion_estop', 'pf_religion_harassment', 'pf_religion_restrictions'):\n",
    "    sub_tbl = df[df[feat].notnull()]\n",
    "    row.append((sub_tbl[feat] * sub_tbl.population).sum()  / (sub_tbl.population.sum()))\n",
    "vals.append(row)"
   ]
  },
  {
   "cell_type": "code",
   "execution_count": null,
   "metadata": {},
   "outputs": [],
   "source": [
    "new_df = pd.DataFrame(vals, columns=['religion', 'pf_religion', 'pf_religion_estop',\n",
    "                                     'pf_religion_harassment', 'pf_religion_restrictions'])"
   ]
  },
  {
   "cell_type": "code",
   "execution_count": null,
   "metadata": {},
   "outputs": [],
   "source": [
    "new_df"
   ]
  },
  {
   "cell_type": "code",
   "execution_count": null,
   "metadata": {
    "collapsed": true
   },
   "outputs": [],
   "source": [
    "new_df.to_csv('../data/human-freedom-index/religion_pf_freedom.csv')"
   ]
  },
  {
   "cell_type": "code",
   "execution_count": null,
   "metadata": {
    "collapsed": true
   },
   "outputs": [],
   "source": [
    "df = pd.read_csv('../data/human-freedom-index/religion_pf_freedom.csv')"
   ]
  },
  {
   "cell_type": "code",
   "execution_count": null,
   "metadata": {},
   "outputs": [],
   "source": [
    "res = []\n",
    "for val in df.values:\n",
    "    res.append({'religion': val[1], 'pf_religion': val[2], 'pf_religion_estop': val[3],\n",
    "                'pf_religion_harrasment': val[4], 'pf_religion_restrictions': val[5]})\n",
    "res"
   ]
  },
  {
   "cell_type": "code",
   "execution_count": null,
   "metadata": {},
   "outputs": [],
   "source": [
    "df.drop(['Unnamed: 0'], axis=1).set_index('religion').plot(kind='bar')"
   ]
  },
  {
   "cell_type": "code",
   "execution_count": null,
   "metadata": {},
   "outputs": [],
   "source": [
    "df.drop(['Unnamed: 0'], axis=1).set_index('religion').plot(kind='bar')"
   ]
  }
 ],
 "metadata": {
  "kernelspec": {
   "display_name": "Python 3",
   "language": "python",
   "name": "python3"
  },
  "language_info": {
   "codemirror_mode": {
    "name": "ipython",
    "version": 3
   },
   "file_extension": ".py",
   "mimetype": "text/x-python",
   "name": "python",
   "nbconvert_exporter": "python",
   "pygments_lexer": "ipython3",
   "version": "3.5.2"
  }
 },
 "nbformat": 4,
 "nbformat_minor": 1
}
