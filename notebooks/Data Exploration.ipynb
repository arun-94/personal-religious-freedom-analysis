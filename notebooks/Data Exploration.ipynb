{
 "cells": [
  {
   "cell_type": "code",
   "execution_count": 4,
   "metadata": {
    "collapsed": true
   },
   "outputs": [],
   "source": [
    "import matplotlib.pyplot as plt\n",
    "%matplotlib inline  "
   ]
  },
  {
   "cell_type": "code",
   "execution_count": 3,
   "metadata": {
    "collapsed": true
   },
   "outputs": [],
   "source": [
    "import pandas as pd\n",
    "import numpy as np"
   ]
  },
  {
   "cell_type": "code",
   "execution_count": null,
   "metadata": {
    "collapsed": true
   },
   "outputs": [],
   "source": [
    "GLOBAL_RELIGION_DATA = '../data/world-religions/global_raw.csv'\n",
    "NATIONAL_RELIGION_DATA = '../data/world-religions/national_raw.csv'\n",
    "LOCAL_RELIGION_DATA = '../data/world-religions/regional_raw.csv'"
   ]
  },
  {
   "cell_type": "code",
   "execution_count": null,
   "metadata": {
    "collapsed": true
   },
   "outputs": [],
   "source": [
    "pop_data_tbl = pd.read_csv(NATIONAL_RELIGION_DATA)"
   ]
  },
  {
   "cell_type": "code",
   "execution_count": null,
   "metadata": {
    "collapsed": true
   },
   "outputs": [],
   "source": [
    "perc_cols =  ['christianity_percent', 'judaism_percent', 'islam_percent', 'buddhism_percent',\n",
    "              'zoroastrianism_percent', 'hinduism_percent', 'sikhism_percent','shinto_percent',\n",
    "              'baha’i_percent', 'taoism_percent', 'jainism_percent', 'confucianism_percent',\n",
    "              'syncretism_percent','animism_percent', 'noreligion_percent', 'otherreligion_percent']"
   ]
  },
  {
   "cell_type": "code",
   "execution_count": null,
   "metadata": {
    "collapsed": true
   },
   "outputs": [],
   "source": [
    "all_cols = ['christianity_all', 'judaism_all', 'islam_all', 'buddhism_all',\n",
    "              'zoroastrianism_all', 'hinduism_all', 'sikhism_all','shinto_all',\n",
    "              'baha’i_all', 'taoism_all', 'jainism_all', 'confucianism_all',\n",
    "              'syncretism_all','animism_all', 'noreligion_all', 'otherreligion_all']"
   ]
  },
  {
   "cell_type": "code",
   "execution_count": null,
   "metadata": {
    "collapsed": true
   },
   "outputs": [],
   "source": [
    "pop_data_tbl[all_cols].sum(axis=0).plot(kind='bar')"
   ]
  },
  {
   "cell_type": "code",
   "execution_count": null,
   "metadata": {
    "collapsed": true
   },
   "outputs": [],
   "source": [
    "pop_data_tbl['majority_religion'] = pop_data_tbl[perc_cols].idxmax(axis=1)"
   ]
  },
  {
   "cell_type": "code",
   "execution_count": null,
   "metadata": {
    "collapsed": true
   },
   "outputs": [],
   "source": [
    "pop_data_tbl['majority_religion'] = pop_data_tbl.majority_religion.map(lambda row: row[:-8])"
   ]
  },
  {
   "cell_type": "code",
   "execution_count": null,
   "metadata": {},
   "outputs": [],
   "source": [
    "tbls = []\n",
    "for key, tbl in pop_data_tbl.groupby('majority_religion'):\n",
    "    tbl['majority_population'] = tbl[[key + '_all']]\n",
    "    tbl['majority_ratio'] = tbl[[key + '_percent']]\n",
    "    tbls.append(tbl[['year', 'state', 'code', 'majority_religion', 'majority_population', 'majority_ratio', 'population']])"
   ]
  },
  {
   "cell_type": "code",
   "execution_count": null,
   "metadata": {
    "collapsed": true
   },
   "outputs": [],
   "source": [
    "joined_tbl = pd.concat(tbls).reset_index()"
   ]
  },
  {
   "cell_type": "code",
   "execution_count": null,
   "metadata": {
    "collapsed": true,
    "scrolled": true
   },
   "outputs": [],
   "source": [
    "joined_tbl_2010 = joined_tbl[joined_tbl['year'] == 2010].reset_index()"
   ]
  },
  {
   "cell_type": "code",
   "execution_count": 1,
   "metadata": {
    "collapsed": true
   },
   "outputs": [],
   "source": [
    "HUMAN_FREEDOM_FILE = '../data/human-freedom-index/raw.csv'"
   ]
  },
  {
   "cell_type": "code",
   "execution_count": 5,
   "metadata": {},
   "outputs": [],
   "source": [
    "human_freedom_tbl = pd.read_csv(HUMAN_FREEDOM_FILE)"
   ]
  },
  {
   "cell_type": "code",
   "execution_count": 6,
   "metadata": {
    "collapsed": true
   },
   "outputs": [],
   "source": [
    "human_tbl_2010 = human_freedom_tbl[human_freedom_tbl.year == 2010].reset_index()"
   ]
  },
  {
   "cell_type": "code",
   "execution_count": null,
   "metadata": {
    "collapsed": true
   },
   "outputs": [],
   "source": [
    "human_tbl_2010 = human_tbl_2010.set_index('countries').drop(['year', 'index'], axis=1)"
   ]
  },
  {
   "cell_type": "code",
   "execution_count": null,
   "metadata": {
    "collapsed": true
   },
   "outputs": [],
   "source": [
    "joined_freedom_tbl = joined_tbl_2010.set_index(['state']).join(human_tbl_2010)"
   ]
  },
  {
   "cell_type": "code",
   "execution_count": 55,
   "metadata": {
    "collapsed": true
   },
   "outputs": [],
   "source": [
    "df = pd.read_csv('../data/human-freedom-index/religion_freedom.csv')"
   ]
  },
  {
   "cell_type": "code",
   "execution_count": 65,
   "metadata": {},
   "outputs": [],
   "source": [
    "vals = []\n",
    "for key, tbl in df.groupby(['majority_religion']):\n",
    "    row = [key]\n",
    "    for feature in ('pf_religion', 'pf_religion_estop', 'pf_religion_harassment', 'pf_religion_restrictions'):\n",
    "        sub_tbl = tbl[tbl[feature].notnull()]\n",
    "        n = len(sub_tbl)\n",
    "        total_population = sub_tbl.population.sum()\n",
    "        if feature == 'pf_religion_estop' and key == 'animism':\n",
    "            row.append(6.017605)\n",
    "        else:\n",
    "            row.append((sub_tbl[feature] * sub_tbl.population).sum()  / (total_population))\n",
    "    vals.append(row)"
   ]
  },
  {
   "cell_type": "code",
   "execution_count": 66,
   "metadata": {},
   "outputs": [
    {
     "data": {
      "text/plain": [
       "0    8.261667\n",
       "Name: pf_religion, dtype: float64"
      ]
     },
     "execution_count": 66,
     "metadata": {},
     "output_type": "execute_result"
    }
   ],
   "source": [
    "df[df['majority_religion'] == 'animism'].pf_religion"
   ]
  },
  {
   "cell_type": "code",
   "execution_count": 67,
   "metadata": {},
   "outputs": [],
   "source": [
    "row = ['total_average']\n",
    "for feat in ('pf_religion', 'pf_religion_estop', 'pf_religion_harassment', 'pf_religion_restrictions'):\n",
    "    sub_tbl = df[df[feat].notnull()]\n",
    "    row.append((sub_tbl[feat] * sub_tbl.population).sum()  / (sub_tbl.population.sum()))\n",
    "vals.append(row)"
   ]
  },
  {
   "cell_type": "code",
   "execution_count": 68,
   "metadata": {},
   "outputs": [],
   "source": [
    "new_df = pd.DataFrame(vals, columns=['religion', 'pf_religion', 'pf_religion_estop',\n",
    "                                     'pf_religion_harassment', 'pf_religion_restrictions'])"
   ]
  },
  {
   "cell_type": "code",
   "execution_count": 69,
   "metadata": {},
   "outputs": [
    {
     "data": {
      "text/html": [
       "<div>\n",
       "<style scoped>\n",
       "    .dataframe tbody tr th:only-of-type {\n",
       "        vertical-align: middle;\n",
       "    }\n",
       "\n",
       "    .dataframe tbody tr th {\n",
       "        vertical-align: top;\n",
       "    }\n",
       "\n",
       "    .dataframe thead th {\n",
       "        text-align: right;\n",
       "    }\n",
       "</style>\n",
       "<table border=\"1\" class=\"dataframe\">\n",
       "  <thead>\n",
       "    <tr style=\"text-align: right;\">\n",
       "      <th></th>\n",
       "      <th>religion</th>\n",
       "      <th>pf_religion</th>\n",
       "      <th>pf_religion_estop</th>\n",
       "      <th>pf_religion_harassment</th>\n",
       "      <th>pf_religion_restrictions</th>\n",
       "    </tr>\n",
       "  </thead>\n",
       "  <tbody>\n",
       "    <tr>\n",
       "      <th>0</th>\n",
       "      <td>animism</td>\n",
       "      <td>8.261667</td>\n",
       "      <td>6.017605</td>\n",
       "      <td>9.351111</td>\n",
       "      <td>7.172222</td>\n",
       "    </tr>\n",
       "    <tr>\n",
       "      <th>1</th>\n",
       "      <td>buddhism</td>\n",
       "      <td>7.567479</td>\n",
       "      <td>6.267668</td>\n",
       "      <td>8.249378</td>\n",
       "      <td>7.491306</td>\n",
       "    </tr>\n",
       "    <tr>\n",
       "      <th>2</th>\n",
       "      <td>christianity</td>\n",
       "      <td>8.119228</td>\n",
       "      <td>8.616083</td>\n",
       "      <td>8.747090</td>\n",
       "      <td>7.013463</td>\n",
       "    </tr>\n",
       "    <tr>\n",
       "      <th>3</th>\n",
       "      <td>hinduism</td>\n",
       "      <td>8.397707</td>\n",
       "      <td>9.998255</td>\n",
       "      <td>9.375389</td>\n",
       "      <td>5.819477</td>\n",
       "    </tr>\n",
       "    <tr>\n",
       "      <th>4</th>\n",
       "      <td>islam</td>\n",
       "      <td>6.492883</td>\n",
       "      <td>4.732706</td>\n",
       "      <td>7.737647</td>\n",
       "      <td>6.923430</td>\n",
       "    </tr>\n",
       "    <tr>\n",
       "      <th>5</th>\n",
       "      <td>judaism</td>\n",
       "      <td>9.653704</td>\n",
       "      <td>10.000000</td>\n",
       "      <td>9.333333</td>\n",
       "      <td>9.627778</td>\n",
       "    </tr>\n",
       "    <tr>\n",
       "      <th>6</th>\n",
       "      <td>noreligion</td>\n",
       "      <td>9.120370</td>\n",
       "      <td>10.000000</td>\n",
       "      <td>9.444444</td>\n",
       "      <td>7.916667</td>\n",
       "    </tr>\n",
       "    <tr>\n",
       "      <th>7</th>\n",
       "      <td>shinto</td>\n",
       "      <td>7.827407</td>\n",
       "      <td>5.833333</td>\n",
       "      <td>8.760000</td>\n",
       "      <td>8.888889</td>\n",
       "    </tr>\n",
       "    <tr>\n",
       "      <th>8</th>\n",
       "      <td>syncretism</td>\n",
       "      <td>5.429006</td>\n",
       "      <td>0.117905</td>\n",
       "      <td>8.489045</td>\n",
       "      <td>7.680068</td>\n",
       "    </tr>\n",
       "    <tr>\n",
       "      <th>9</th>\n",
       "      <td>total_average</td>\n",
       "      <td>7.211640</td>\n",
       "      <td>6.017605</td>\n",
       "      <td>8.590692</td>\n",
       "      <td>6.968091</td>\n",
       "    </tr>\n",
       "  </tbody>\n",
       "</table>\n",
       "</div>"
      ],
      "text/plain": [
       "        religion  pf_religion  pf_religion_estop  pf_religion_harassment  \\\n",
       "0        animism     8.261667           6.017605                9.351111   \n",
       "1       buddhism     7.567479           6.267668                8.249378   \n",
       "2   christianity     8.119228           8.616083                8.747090   \n",
       "3       hinduism     8.397707           9.998255                9.375389   \n",
       "4          islam     6.492883           4.732706                7.737647   \n",
       "5        judaism     9.653704          10.000000                9.333333   \n",
       "6     noreligion     9.120370          10.000000                9.444444   \n",
       "7         shinto     7.827407           5.833333                8.760000   \n",
       "8     syncretism     5.429006           0.117905                8.489045   \n",
       "9  total_average     7.211640           6.017605                8.590692   \n",
       "\n",
       "   pf_religion_restrictions  \n",
       "0                  7.172222  \n",
       "1                  7.491306  \n",
       "2                  7.013463  \n",
       "3                  5.819477  \n",
       "4                  6.923430  \n",
       "5                  9.627778  \n",
       "6                  7.916667  \n",
       "7                  8.888889  \n",
       "8                  7.680068  \n",
       "9                  6.968091  "
      ]
     },
     "execution_count": 69,
     "metadata": {},
     "output_type": "execute_result"
    }
   ],
   "source": [
    "new_df"
   ]
  },
  {
   "cell_type": "code",
   "execution_count": 70,
   "metadata": {
    "collapsed": true
   },
   "outputs": [],
   "source": [
    "new_df.to_csv('../data/human-freedom-index/religion_pf_freedom.csv')"
   ]
  },
  {
   "cell_type": "code",
   "execution_count": 71,
   "metadata": {
    "collapsed": true
   },
   "outputs": [],
   "source": [
    "df = pd.read_csv('../data/human-freedom-index/religion_pf_freedom.csv')"
   ]
  },
  {
   "cell_type": "code",
   "execution_count": 78,
   "metadata": {},
   "outputs": [
    {
     "data": {
      "text/plain": [
       "[{'pf_religion': 8.261666667,\n",
       "  'pf_religion_estop': 6.0176050000000005,\n",
       "  'pf_religion_harrasment': 9.351111111,\n",
       "  'pf_religion_restrictions': 7.172222222,\n",
       "  'religion': 'animism'},\n",
       " {'pf_religion': 7.567479100728695,\n",
       "  'pf_religion_estop': 6.267668437195742,\n",
       "  'pf_religion_harrasment': 8.249377635217751,\n",
       "  'pf_religion_restrictions': 7.4913062740495455,\n",
       "  'religion': 'buddhism'},\n",
       " {'pf_religion': 8.119227612062081,\n",
       "  'pf_religion_estop': 8.616082654831681,\n",
       "  'pf_religion_harrasment': 8.747090111413428,\n",
       "  'pf_religion_restrictions': 7.013462854398089,\n",
       "  'religion': 'christianity'},\n",
       " {'pf_religion': 8.397706885013104,\n",
       "  'pf_religion_estop': 9.998254638037052,\n",
       "  'pf_religion_harrasment': 9.375388983156848,\n",
       "  'pf_religion_restrictions': 5.819477033868133,\n",
       "  'religion': 'hinduism'},\n",
       " {'pf_religion': 6.492882688503089,\n",
       "  'pf_religion_estop': 4.732706344081066,\n",
       "  'pf_religion_harrasment': 7.7376472673350705,\n",
       "  'pf_religion_restrictions': 6.923429517885017,\n",
       "  'religion': 'islam'},\n",
       " {'pf_religion': 9.653703704,\n",
       "  'pf_religion_estop': 10.0,\n",
       "  'pf_religion_harrasment': 9.333333332999999,\n",
       "  'pf_religion_restrictions': 9.627777777999999,\n",
       "  'religion': 'judaism'},\n",
       " {'pf_religion': 9.12037037,\n",
       "  'pf_religion_estop': 10.0,\n",
       "  'pf_religion_harrasment': 9.444444444,\n",
       "  'pf_religion_restrictions': 7.916666667,\n",
       "  'religion': 'noreligion'},\n",
       " {'pf_religion': 7.827407407000001,\n",
       "  'pf_religion_estop': 5.833333333,\n",
       "  'pf_religion_harrasment': 8.76,\n",
       "  'pf_religion_restrictions': 8.888888889,\n",
       "  'religion': 'shinto'},\n",
       " {'pf_religion': 5.429006125963705,\n",
       "  'pf_religion_estop': 0.11790502237097712,\n",
       "  'pf_religion_harrasment': 8.489045349259474,\n",
       "  'pf_religion_restrictions': 7.680068005244018,\n",
       "  'religion': 'syncretism'},\n",
       " {'pf_religion': 7.211640260238617,\n",
       "  'pf_religion_estop': 6.017605260360807,\n",
       "  'pf_religion_harrasment': 8.590692466147424,\n",
       "  'pf_religion_restrictions': 6.968090626619675,\n",
       "  'religion': 'total_average'}]"
      ]
     },
     "execution_count": 78,
     "metadata": {},
     "output_type": "execute_result"
    }
   ],
   "source": [
    "res = []\n",
    "for val in df.values:\n",
    "    res.append({'religion': val[1], 'pf_religion': val[2], 'pf_religion_estop': val[3],\n",
    "                'pf_religion_harrasment': val[4], 'pf_religion_restrictions': val[5]})\n",
    "res"
   ]
  },
  {
   "cell_type": "code",
   "execution_count": null,
   "metadata": {},
   "outputs": [],
   "source": [
    "df.drop(['Unnamed: 0'], axis=1).set_index('religion').plot(kind='bar')"
   ]
  },
  {
   "cell_type": "code",
   "execution_count": null,
   "metadata": {},
   "outputs": [],
   "source": [
    "df.drop(['Unnamed: 0'], axis=1).set_index('religion').plot(kind='bar')"
   ]
  }
 ],
 "metadata": {
  "kernelspec": {
   "display_name": "Python 3",
   "language": "python",
   "name": "python3"
  },
  "language_info": {
   "codemirror_mode": {
    "name": "ipython",
    "version": 3
   },
   "file_extension": ".py",
   "mimetype": "text/x-python",
   "name": "python",
   "nbconvert_exporter": "python",
   "pygments_lexer": "ipython3",
   "version": "3.5.2"
  }
 },
 "nbformat": 4,
 "nbformat_minor": 1
}
